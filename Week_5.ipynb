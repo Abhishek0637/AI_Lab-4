{
  "nbformat": 4,
  "nbformat_minor": 0,
  "metadata": {
    "colab": {
      "name": "Week-5.ipynb",
      "provenance": []
    },
    "kernelspec": {
      "name": "python3",
      "display_name": "Python 3"
    },
    "language_info": {
      "name": "python"
    }
  },
  "cells": [
    {
      "cell_type": "code",
      "execution_count": 10,
      "metadata": {
        "id": "N2wY-6qWzPrO"
      },
      "outputs": [],
      "source": [
        "import numpy as np\n",
        "import math"
      ]
    },
    {
      "cell_type": "markdown",
      "source": [
        "This func will return updated state"
      ],
      "metadata": {
        "id": "8La5xYCH5_uR"
      }
    },
    {
      "cell_type": "code",
      "source": [
        "def updateCurrentState(currentState,move,position):\n",
        "  state=currentState.copy()\n",
        "  state[position]=move\n",
        "  return state"
      ],
      "metadata": {
        "id": "5VA1By5r0fEx"
      },
      "execution_count": 11,
      "outputs": []
    },
    {
      "cell_type": "markdown",
      "source": [
        "check for empty Spaces."
      ],
      "metadata": {
        "id": "b7PTX-Tg6LeY"
      }
    },
    {
      "cell_type": "code",
      "source": [
        "def getEmptySpaces(currentState):\n",
        "  count=[]\n",
        "  for i in range(len(currentState)):\n",
        "    if currentState[i] == ' ':\n",
        "      count.append(i)\n",
        "  return np.array(count)"
      ],
      "metadata": {
        "id": "IHLefVhe0_en"
      },
      "execution_count": 12,
      "outputs": []
    },
    {
      "cell_type": "markdown",
      "source": [
        " Check if Player 1 wins return +10\n",
        " Check if Player 2 wins return -10\n",
        " Check if it is draw return 0\n",
        " otherwise return -1"
      ],
      "metadata": {
        "id": "v8KFF3gp6VeA"
      }
    },
    {
      "cell_type": "code",
      "source": [
        "\n",
        "\n",
        "def isGameOver(currentState,evaluatedNodes):\n",
        "  state=currentState.copy()\n",
        "\n",
        "  # check for Horizontal win\n",
        "  for i in range(0,7,3) :\n",
        "    if (state[i] == state[i + 1] == state[i + 2]):\n",
        "      if (state[i]=='X'):\n",
        "        return 10,evaluatedNodes+1\n",
        "      elif (state[i]=='O'):\n",
        "        return -10,evaluatedNodes+1\n",
        "\n",
        "  # check vertical win\n",
        "  for i in range(0,3):\n",
        "    if (state[i] == state[i + 3] == state[i + 6]):\n",
        "      if (state[i]=='X'):\n",
        "        return 10,evaluatedNodes+1\n",
        "      elif (state[i]=='O'):\n",
        "        return -10,evaluatedNodes+1\n",
        "\n",
        "  #check diagonal win\n",
        "  if (state[0] == state[4] == state[8]) :\n",
        "    if (state[0]=='X'):\n",
        "        return 10,evaluatedNodes+1\n",
        "    elif (state[0]=='O'):\n",
        "        return -10,evaluatedNodes+1\n",
        "  if (state[2] == state[4] == state[6]):\n",
        "    if ( state[2]=='X'):\n",
        "        return 10,evaluatedNodes+1\n",
        "    elif (state[2]=='O'):\n",
        "        return -10,evaluatedNodes+1\n",
        "\n",
        "  # Check if it is a draw\n",
        "  if len(getEmptySpaces(state)) == 0:\n",
        "    return 0,evaluatedNodes+1\n",
        "\n",
        "  return -1,evaluatedNodes+1"
      ],
      "metadata": {
        "id": "sx1hfOKW0sFa"
      },
      "execution_count": 13,
      "outputs": []
    },
    {
      "cell_type": "markdown",
      "source": [
        "minmax function to prove that the player 1 always wins."
      ],
      "metadata": {
        "id": "5buKl4D-6cgg"
      }
    },
    {
      "cell_type": "code",
      "source": [
        "def minmax(depth ,maximizingPlay ,currentState,parentIndex,evaluatedNodes):\n",
        "  move = 'X' if maximizingPlay else 'O'\n",
        "  moveScore,evaluatedNodes=isGameOver(currentState,evaluatedNodes)\n",
        "  \n",
        "  if depth == 0 or moveScore != -1:\n",
        "    return [moveScore,currentState,evaluatedNodes]\n",
        "  if maximizingPlay :\n",
        "    maxEval = -math.inf\n",
        "    emptyIndices=getEmptySpaces(currentState)\n",
        "    best = None\n",
        "    for i in emptyIndices:\n",
        "      updatedState = updateCurrentState(currentState,move,i)\n",
        "      eval,bestTemp,evaluatedNodes=minmax(depth-1,False,updatedState,i,evaluatedNodes)\n",
        "      maxEval=max(maxEval,eval)\n",
        "      best = bestTemp if maxEval == eval else best\n",
        "    return [maxEval,best,evaluatedNodes]\n",
        "  else:\n",
        "    minEval = math.inf\n",
        "    emptyIndices=getEmptySpaces(currentState)\n",
        "    best = None\n",
        "    for i in emptyIndices:\n",
        "      updatedState = updateCurrentState(currentState,move,i)\n",
        "      eval,bestTemp,evaluatedNodes=minmax(depth-1,True,updatedState,i,evaluatedNodes)\n",
        "      minEval=min(minEval,eval)\n",
        "      best = bestTemp if minEval == eval else best\n",
        "    return [minEval,best,evaluatedNodes]"
      ],
      "metadata": {
        "id": "eSn-RCSw027_"
      },
      "execution_count": 14,
      "outputs": []
    },
    {
      "cell_type": "markdown",
      "source": [
        "function alphaBetaPruning which gives the reason that player 1 always wins."
      ],
      "metadata": {
        "id": "zAqpqh9b7JwP"
      }
    },
    {
      "cell_type": "code",
      "source": [
        "def alphaBetaPruning(depth ,maximizingPlay,alpha,beta ,currentState,parentNode,evaluatedNodes):\n",
        "  move = 'X' if maximizingPlay else 'O'\n",
        "  moveScore,evaluatedNodes=isGameOver(currentState,evaluatedNodes)\n",
        "  # if moveScore == 10 or moveScore==-10 :\n",
        "  #   print(currentState.reshape(3,3))\n",
        "  if depth == 0 or moveScore != -1:\n",
        "    # return some static value \n",
        "    return [moveScore,evaluatedNodes]\n",
        "  # Player 1's move\n",
        "  if maximizingPlay :\n",
        "    maxEval = -math.inf\n",
        "    # get empty indices from the current state\n",
        "    emptyIndices=getEmptySpaces(currentState)\n",
        "    for i in emptyIndices:\n",
        "      updatedState = updateCurrentState(currentState,move,i)\n",
        "      eval,evaluatedNodes=alphaBetaPruning(depth-1,False,alpha,beta ,updatedState,i,evaluatedNodes)\n",
        "      maxEval=max(maxEval,eval)\n",
        "      alpha=max(alpha,eval)\n",
        "      if (beta<=alpha):\n",
        "        break\n",
        "    return [maxEval,evaluatedNodes]\n",
        "  else:\n",
        "    minEval = math.inf\n",
        "    # get empty indices from the current state\n",
        "    emptyIndices=getEmptySpaces(currentState)\n",
        "    for i in emptyIndices:\n",
        "      updatedState = updateCurrentState(currentState,move,i)\n",
        "      eval,evaluatedNodes=alphaBetaPruning(depth-1,True,alpha,beta ,updatedState,i,evaluatedNodes)\n",
        "      minEval=min(minEval,eval)\n",
        "      beta=min(beta,eval)\n",
        "      if (beta<=alpha):\n",
        "        break\n",
        "    return [minEval,evaluatedNodes]"
      ],
      "metadata": {
        "id": "GVdajtDo1IcP"
      },
      "execution_count": 15,
      "outputs": []
    },
    {
      "cell_type": "markdown",
      "source": [
        "main driver"
      ],
      "metadata": {
        "id": "Oe6zyngu8BKG"
      }
    },
    {
      "cell_type": "code",
      "source": [
        "InitialState=np.array([' ',' ',' ',' ',' ',' ',' ',' ',' '])\n",
        "\n",
        "points,board,evaluatedNodes=minmax(9,True,InitialState,None,0)\n",
        "\n",
        "\n",
        "# points refer to win, loss, draw state attained from inital state.\n",
        "\n",
        "# board is the final board generated from the initial state.\n",
        "\n",
        "# evaluatedNodes is the number of times board state is tested for game over situation or the number of times minmax function is being called.\n",
        "\n",
        "# pointABP is similar point table for Alpha beta pruining.\n",
        "\n",
        "# evaluatedNodesABP is similar node evaluation for Alpha beta pruining.\n",
        "\n",
        "# Assumptions made :\n",
        "\n",
        "# if maximizing the situation means it is X's turn else it is O's turn.\n",
        "\n",
        "# Inputs for MinMax func = > depth, maximizing, initial state of board, parentNode, evaluatedNodes\n",
        "\n",
        "# Inputs for AplhaBetaPruining func = > depth, maximizing,alpha, beta, initial state of board, parentNode, evaluatedNodes\n",
        "\n",
        "pointABP,evaluatedNodesABP=alphaBetaPruning(9,True,-math.inf,math.inf,InitialState,None,0)\n",
        "print(\"Minimax : \")\n",
        "print(points,board.reshape(3,3),\"\\n Evaluated Nodes = \",evaluatedNodes)\n",
        "print(\"\\n Alpha Beta Pruining : \")\n",
        "print(pointABP,\"\\n Evaluated Nodes = \",evaluatedNodesABP)"
      ],
      "metadata": {
        "id": "vgGk3LWK1QDn",
        "outputId": "c76e2c95-114c-460c-d364-5d11790ad658",
        "colab": {
          "base_uri": "https://localhost:8080/"
        }
      },
      "execution_count": 16,
      "outputs": [
        {
          "output_type": "stream",
          "name": "stdout",
          "text": [
            "Minimax : \n",
            "0 [['X' 'O' 'X']\n",
            " ['X' 'O' 'O']\n",
            " ['O' 'X' 'X']] \n",
            " Evaluated Nodes =  549946\n",
            "\n",
            " Alpha Beta Pruining : \n",
            "0 \n",
            " Evaluated Nodes =  18297\n"
          ]
        }
      ]
    }
  ]
}